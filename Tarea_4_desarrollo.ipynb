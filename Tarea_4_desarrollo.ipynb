{
 "cells": [
  {
   "cell_type": "markdown",
   "id": "2e4a2750",
   "metadata": {},
   "source": [
    "## Pregunta 1\n",
    "1. Programen una función para generar un tono puro en Python."
   ]
  },
  {
   "cell_type": "code",
   "execution_count": 20,
   "id": "3f80feaf",
   "metadata": {},
   "outputs": [],
   "source": [
    "import numpy as np\n",
    "import scipy.io.wavfile as wav"
   ]
  },
  {
   "cell_type": "code",
   "execution_count": 21,
   "id": "482e4953",
   "metadata": {},
   "outputs": [],
   "source": [
    "def tono_puro(A, f, t, iteraciones):\n",
    "    tiempo = []\n",
    "    for i in range(iteraciones):\n",
    "        tiempo.append(i*(t))\n",
    "    return [A*np.sin(2*np.pi*x) for x in tiempo]"
   ]
  },
  {
   "cell_type": "code",
   "execution_count": 24,
   "id": "aebb3b4c",
   "metadata": {},
   "outputs": [],
   "source": [
    "tono_array = np.asarray(tono_puro(300, 50, 10, 44100))"
   ]
  },
  {
   "cell_type": "code",
   "execution_count": 26,
   "id": "503cfcc3",
   "metadata": {},
   "outputs": [],
   "source": [
    "wav.write('audio_prueba.wav', 10, tono_array)"
   ]
  }
 ],
 "metadata": {
  "kernelspec": {
   "display_name": "Python 3 (ipykernel)",
   "language": "python",
   "name": "python3"
  },
  "language_info": {
   "codemirror_mode": {
    "name": "ipython",
    "version": 3
   },
   "file_extension": ".py",
   "mimetype": "text/x-python",
   "name": "python",
   "nbconvert_exporter": "python",
   "pygments_lexer": "ipython3",
   "version": "3.10.4"
  }
 },
 "nbformat": 4,
 "nbformat_minor": 5
}
